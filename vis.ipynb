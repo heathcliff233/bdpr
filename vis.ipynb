{
 "cells": [
  {
   "cell_type": "code",
   "execution_count": 1,
   "id": "2078cb13",
   "metadata": {},
   "outputs": [
    {
     "name": "stdout",
     "output_type": "stream",
     "text": [
      "CPU times: user 1.47 s, sys: 391 ms, total: 1.86 s\n",
      "Wall time: 43.1 s\n"
     ]
    }
   ],
   "source": [
    "%%time\n",
    "import numpy as np\n",
    "import matplotlib.pyplot as plt\n",
    "import seaborn as sns"
   ]
  },
  {
   "cell_type": "code",
   "execution_count": 2,
   "id": "7aff039e",
   "metadata": {},
   "outputs": [
    {
     "name": "stdout",
     "output_type": "stream",
     "text": [
      "CPU times: user 5.09 ms, sys: 185 µs, total: 5.28 ms\n",
      "Wall time: 12.5 ms\n"
     ]
    }
   ],
   "source": [
    "%%time\n",
    "a = np.loadtxt('tot.log')"
   ]
  },
  {
   "cell_type": "code",
   "execution_count": 4,
   "id": "7d2180cb",
   "metadata": {},
   "outputs": [],
   "source": [
    "%matplotlib inline"
   ]
  },
  {
   "cell_type": "code",
   "execution_count": 5,
   "id": "9eefdc34",
   "metadata": {},
   "outputs": [
    {
     "name": "stderr",
     "output_type": "stream",
     "text": [
      "/user/hongliang/miniconda3/envs/bert17/lib/python3.8/site-packages/seaborn/distributions.py:2557: FutureWarning: `distplot` is a deprecated function and will be removed in a future version. Please adapt your code to use either `displot` (a figure-level function with similar flexibility) or `histplot` (an axes-level function for histograms).\n",
      "  warnings.warn(msg, FutureWarning)\n"
     ]
    },
    {
     "data": {
      "image/png": "[encoded data removed]",
      "text/plain": [
       "<Figure size 432x288 with 1 Axes>"
      ]
     },
     "metadata": {
      "needs_background": "light"
     },
     "output_type": "display_data"
    }
   ],
   "source": [
    "ax = sns.distplot(a)"
   ]
  },
  {
   "cell_type": "code",
   "execution_count": 6,
   "id": "80f1906c",
   "metadata": {},
   "outputs": [
    {
     "data": {
      "text/plain": [
       "0.7216904296875"
      ]
     },
     "execution_count": 6,
     "metadata": {},
     "output_type": "execute_result"
    }
   ],
   "source": [
    "a.mean()"
   ]
  },
  {
   "cell_type": "code",
   "execution_count": null,
   "id": "c94f9bc7",
   "metadata": {},
   "outputs": [],
   "source": []
  },
  {
   "cell_type": "code",
   "execution_count": null,
   "id": "3ae844fd",
   "metadata": {},
   "outputs": [],
   "source": []
  },
  {
   "cell_type": "code",
   "execution_count": null,
   "id": "fe0468ac",
   "metadata": {},
   "outputs": [],
   "source": []
  },
  {
   "cell_type": "code",
   "execution_count": null,
   "id": "26cc500e",
   "metadata": {},
   "outputs": [],
   "source": []
  },
  {
   "cell_type": "code",
   "execution_count": null,
   "id": "fb3becb8",
   "metadata": {},
   "outputs": [],
   "source": []
  },
  {
   "cell_type": "code",
   "execution_count": 1,
   "id": "bb14b351",
   "metadata": {},
   "outputs": [
    {
     "name": "stdout",
     "output_type": "stream",
     "text": [
      "CPU times: user 1.01 s, sys: 347 ms, total: 1.35 s\n",
      "Wall time: 21.7 s\n"
     ]
    }
   ],
   "source": [
    "%%time\n",
    "import sys \n",
    "sys.path.append(\"/share/hongliang\") \n",
    "import pandas as pd\n",
    "import phylopandas.phylopandas as ph"
   ]
  },
  {
   "cell_type": "code",
   "execution_count": 2,
   "id": "9e2d5003",
   "metadata": {},
   "outputs": [],
   "source": [
    "df = ph.read_fasta('./hmmalign256-v1/1a04A01.a3m', use_uids=False)"
   ]
  },
  {
   "cell_type": "code",
   "execution_count": 3,
   "id": "fa0e9411",
   "metadata": {},
   "outputs": [
    {
     "name": "stdout",
     "output_type": "stream",
     "text": [
      "CPU times: user 2.22 ms, sys: 7.59 ms, total: 9.81 ms\n",
      "Wall time: 56.1 ms\n"
     ]
    }
   ],
   "source": [
    "%%time\n",
    "#sp = df.sample(100, random_state=1)\n",
    "sp = df[:10]\n",
    "sp.phylo.to_fasta(\"speed.fasta\", id_col='id')"
   ]
  },
  {
   "cell_type": "code",
   "execution_count": 2,
   "id": "69d1baef",
   "metadata": {
    "scrolled": true
   },
   "outputs": [
    {
     "name": "stdout",
     "output_type": "stream",
     "text": [
      "CPU times: user 17min 51s, sys: 1min 36s, total: 19min 27s\n",
      "Wall time: 21min 40s\n"
     ]
    }
   ],
   "source": [
    "%%time\n",
    "df = ph.read_fasta('/ssdcache/wangsheng/databases/uniref90/uniref90.fasta', use_uids=False)"
   ]
  },
  {
   "cell_type": "code",
   "execution_count": 3,
   "id": "92daadc7",
   "metadata": {
    "scrolled": true
   },
   "outputs": [
    {
     "data": {
      "text/html": [
       "<div>\n",
       "<style scoped>\n",
       "    .dataframe tbody tr th:only-of-type {\n",
       "        vertical-align: middle;\n",
       "    }\n",
       "\n",
       "    .dataframe tbody tr th {\n",
       "        vertical-align: top;\n",
       "    }\n",
       "\n",
       "    .dataframe thead th {\n",
       "        text-align: right;\n",
       "    }\n",
       "</style>\n",
       "<table border=\"1\" class=\"dataframe\">\n",
       "  <thead>\n",
       "    <tr style=\"text-align: right;\">\n",
       "      <th></th>\n",
       "      <th>id</th>\n",
       "      <th>sequence</th>\n",
       "      <th>description</th>\n",
       "      <th>label</th>\n",
       "    </tr>\n",
       "  </thead>\n",
       "  <tbody>\n",
       "    <tr>\n",
       "      <th>0</th>\n",
       "      <td>UniRef90_Q6GZX4</td>\n",
       "      <td>MAFSAEDVLKEYDRRRRMEALLLSLYYPNDRKLLDYKEWSPPRVQV...</td>\n",
       "      <td>UniRef90_Q6GZX4 Putative transcription factor ...</td>\n",
       "      <td>UniRef90_Q6GZX4</td>\n",
       "    </tr>\n",
       "    <tr>\n",
       "      <th>1</th>\n",
       "      <td>UniRef90_Q6GZX3</td>\n",
       "      <td>MSIIGATRLQNDKSDTYSAGPCYAGGCSAFTPRGTCGKDWDLGEQT...</td>\n",
       "      <td>UniRef90_Q6GZX3 Uncharacterized protein 002L n...</td>\n",
       "      <td>UniRef90_Q6GZX3</td>\n",
       "    </tr>\n",
       "    <tr>\n",
       "      <th>2</th>\n",
       "      <td>UniRef90_Q197F8</td>\n",
       "      <td>MASNTVSAQGGSNRPVRDFSNIQDVAQFLLFDPIWNEQPGSIVPWK...</td>\n",
       "      <td>UniRef90_Q197F8 Uncharacterized protein 002R n...</td>\n",
       "      <td>UniRef90_Q197F8</td>\n",
       "    </tr>\n",
       "    <tr>\n",
       "      <th>3</th>\n",
       "      <td>UniRef90_Q197F7</td>\n",
       "      <td>MYQAINPCPQSWYGSPQLEREIVCKMSGAPHYPNYYPVHPNALGGA...</td>\n",
       "      <td>UniRef90_Q197F7 Uncharacterized protein 003L n...</td>\n",
       "      <td>UniRef90_Q197F7</td>\n",
       "    </tr>\n",
       "    <tr>\n",
       "      <th>4</th>\n",
       "      <td>UniRef90_Q6GZX2</td>\n",
       "      <td>MARPLLGKTSSVRRRLESLSACSIFFFLRKFCQKMASLVFLNSPVY...</td>\n",
       "      <td>UniRef90_Q6GZX2 Uncharacterized protein 3R n=3...</td>\n",
       "      <td>UniRef90_Q6GZX2</td>\n",
       "    </tr>\n",
       "    <tr>\n",
       "      <th>...</th>\n",
       "      <td>...</td>\n",
       "      <td>...</td>\n",
       "      <td>...</td>\n",
       "      <td>...</td>\n",
       "    </tr>\n",
       "    <tr>\n",
       "      <th>70056373</th>\n",
       "      <td>UniRef90_UPI000CCC9F91</td>\n",
       "      <td>MGAVHTRGVYELTPKTWTVSVNRLFDTQSCIQGKITKARSPQGLTP...</td>\n",
       "      <td>UniRef90_UPI000CCC9F91 hypothetical protein n=...</td>\n",
       "      <td>UniRef90_UPI000CCC9F91</td>\n",
       "    </tr>\n",
       "    <tr>\n",
       "      <th>70056374</th>\n",
       "      <td>UniRef90_UPI000CCC9F98</td>\n",
       "      <td>KIMEAYAGEYHTVFFANFHVPLIHHILSCISFSEIKTFDDGTNNIN...</td>\n",
       "      <td>UniRef90_UPI000CCC9F98 UDP-glucose--glucosyl L...</td>\n",
       "      <td>UniRef90_UPI000CCC9F98</td>\n",
       "    </tr>\n",
       "    <tr>\n",
       "      <th>70056375</th>\n",
       "      <td>UniRef90_UPI000CCC9F9E</td>\n",
       "      <td>MQGRLRSAAARLFSGHNCNGFPAPPGFLTTPHTPSASHASSPSGDW...</td>\n",
       "      <td>UniRef90_UPI000CCC9F9E hypothetical protein n=...</td>\n",
       "      <td>UniRef90_UPI000CCC9F9E</td>\n",
       "    </tr>\n",
       "    <tr>\n",
       "      <th>70056376</th>\n",
       "      <td>UniRef90_UPI000CCC9FAB</td>\n",
       "      <td>MSNGKTKTQAERLFDVNFDATGITVLSIDWRWIDKCLCDVNGCCIK...</td>\n",
       "      <td>UniRef90_UPI000CCC9FAB hypothetical protein n=...</td>\n",
       "      <td>UniRef90_UPI000CCC9FAB</td>\n",
       "    </tr>\n",
       "    <tr>\n",
       "      <th>70056377</th>\n",
       "      <td>UniRef90_UPI000CCC9FAD</td>\n",
       "      <td>MRWRKIDKSKGECGSRFFRLYINPSSCRCVGCELLGPSLGLALPGP...</td>\n",
       "      <td>UniRef90_UPI000CCC9FAD hypothetical protein n=...</td>\n",
       "      <td>UniRef90_UPI000CCC9FAD</td>\n",
       "    </tr>\n",
       "  </tbody>\n",
       "</table>\n",
       "<p>70056378 rows × 4 columns</p>\n",
       "</div>"
      ],
      "text/plain": [
       "                              id  \\\n",
       "0                UniRef90_Q6GZX4   \n",
       "1                UniRef90_Q6GZX3   \n",
       "2                UniRef90_Q197F8   \n",
       "3                UniRef90_Q197F7   \n",
       "4                UniRef90_Q6GZX2   \n",
       "...                          ...   \n",
       "70056373  UniRef90_UPI000CCC9F91   \n",
       "70056374  UniRef90_UPI000CCC9F98   \n",
       "70056375  UniRef90_UPI000CCC9F9E   \n",
       "70056376  UniRef90_UPI000CCC9FAB   \n",
       "70056377  UniRef90_UPI000CCC9FAD   \n",
       "\n",
       "                                                   sequence  \\\n",
       "0         MAFSAEDVLKEYDRRRRMEALLLSLYYPNDRKLLDYKEWSPPRVQV...   \n",
       "1         MSIIGATRLQNDKSDTYSAGPCYAGGCSAFTPRGTCGKDWDLGEQT...   \n",
       "2         MASNTVSAQGGSNRPVRDFSNIQDVAQFLLFDPIWNEQPGSIVPWK...   \n",
       "3         MYQAINPCPQSWYGSPQLEREIVCKMSGAPHYPNYYPVHPNALGGA...   \n",
       "4         MARPLLGKTSSVRRRLESLSACSIFFFLRKFCQKMASLVFLNSPVY...   \n",
       "...                                                     ...   \n",
       "70056373  MGAVHTRGVYELTPKTWTVSVNRLFDTQSCIQGKITKARSPQGLTP...   \n",
       "70056374  KIMEAYAGEYHTVFFANFHVPLIHHILSCISFSEIKTFDDGTNNIN...   \n",
       "70056375  MQGRLRSAAARLFSGHNCNGFPAPPGFLTTPHTPSASHASSPSGDW...   \n",
       "70056376  MSNGKTKTQAERLFDVNFDATGITVLSIDWRWIDKCLCDVNGCCIK...   \n",
       "70056377  MRWRKIDKSKGECGSRFFRLYINPSSCRCVGCELLGPSLGLALPGP...   \n",
       "\n",
       "                                                description  \\\n",
       "0         UniRef90_Q6GZX4 Putative transcription factor ...   \n",
       "1         UniRef90_Q6GZX3 Uncharacterized protein 002L n...   \n",
       "2         UniRef90_Q197F8 Uncharacterized protein 002R n...   \n",
       "3         UniRef90_Q197F7 Uncharacterized protein 003L n...   \n",
       "4         UniRef90_Q6GZX2 Uncharacterized protein 3R n=3...   \n",
       "...                                                     ...   \n",
       "70056373  UniRef90_UPI000CCC9F91 hypothetical protein n=...   \n",
       "70056374  UniRef90_UPI000CCC9F98 UDP-glucose--glucosyl L...   \n",
       "70056375  UniRef90_UPI000CCC9F9E hypothetical protein n=...   \n",
       "70056376  UniRef90_UPI000CCC9FAB hypothetical protein n=...   \n",
       "70056377  UniRef90_UPI000CCC9FAD hypothetical protein n=...   \n",
       "\n",
       "                           label  \n",
       "0                UniRef90_Q6GZX4  \n",
       "1                UniRef90_Q6GZX3  \n",
       "2                UniRef90_Q197F8  \n",
       "3                UniRef90_Q197F7  \n",
       "4                UniRef90_Q6GZX2  \n",
       "...                          ...  \n",
       "70056373  UniRef90_UPI000CCC9F91  \n",
       "70056374  UniRef90_UPI000CCC9F98  \n",
       "70056375  UniRef90_UPI000CCC9F9E  \n",
       "70056376  UniRef90_UPI000CCC9FAB  \n",
       "70056377  UniRef90_UPI000CCC9FAD  \n",
       "\n",
       "[70056378 rows x 4 columns]"
      ]
     },
     "execution_count": 3,
     "metadata": {},
     "output_type": "execute_result"
    }
   ],
   "source": [
    "df"
   ]
  },
  {
   "cell_type": "code",
   "execution_count": 4,
   "id": "95a34aa1",
   "metadata": {},
   "outputs": [
    {
     "name": "stdout",
     "output_type": "stream",
     "text": [
      "CPU times: user 17.3 s, sys: 2.33 s, total: 19.6 s\n",
      "Wall time: 21.4 s\n"
     ]
    }
   ],
   "source": [
    "%%time\n",
    "sp = df.sample(100000, random_state=1)\n",
    "sp.phylo.to_fasta(\"speed.fasta\", id_col='id')"
   ]
  },
  {
   "cell_type": "code",
   "execution_count": 14,
   "id": "8dde1264",
   "metadata": {},
   "outputs": [],
   "source": [
    "df.phylo.to_fasta(\"res.fasta\", id_col='id')"
   ]
  },
  {
   "cell_type": "code",
   "execution_count": 6,
   "id": "8ebc22ce",
   "metadata": {},
   "outputs": [
    {
     "data": {
      "text/html": [
       "<div>\n",
       "<style scoped>\n",
       "    .dataframe tbody tr th:only-of-type {\n",
       "        vertical-align: middle;\n",
       "    }\n",
       "\n",
       "    .dataframe tbody tr th {\n",
       "        vertical-align: top;\n",
       "    }\n",
       "\n",
       "    .dataframe thead th {\n",
       "        text-align: right;\n",
       "    }\n",
       "</style>\n",
       "<table border=\"1\" class=\"dataframe\">\n",
       "  <thead>\n",
       "    <tr style=\"text-align: right;\">\n",
       "      <th></th>\n",
       "      <th>id</th>\n",
       "      <th>sequence</th>\n",
       "      <th>description</th>\n",
       "      <th>label</th>\n",
       "    </tr>\n",
       "  </thead>\n",
       "  <tbody>\n",
       "    <tr>\n",
       "      <th>25882377</th>\n",
       "      <td>UniRef90_A0A1Q4Y2J6</td>\n",
       "      <td>MPQAPAWSVLDEYLWHTCEILADLRADRLDQRPLVATRARLEPGER...</td>\n",
       "      <td>UniRef90_A0A1Q4Y2J6 Uncharacterized protein n=...</td>\n",
       "      <td>UniRef90_A0A1Q4Y2J6</td>\n",
       "    </tr>\n",
       "    <tr>\n",
       "      <th>38399280</th>\n",
       "      <td>UniRef90_H1ZE35</td>\n",
       "      <td>MNQTPKLTYVLHSGSFLSTLLIFFFIFLSRRGANGIYTQPLLGALY...</td>\n",
       "      <td>UniRef90_H1ZE35 Uncharacterized protein n=2 Ta...</td>\n",
       "      <td>UniRef90_H1ZE35</td>\n",
       "    </tr>\n",
       "    <tr>\n",
       "      <th>17998586</th>\n",
       "      <td>UniRef90_I5CIU4</td>\n",
       "      <td>MKDFRLRFASFGDILDDDDGAAIRHWIVCDLELSTVAQFKVERVAL...</td>\n",
       "      <td>UniRef90_I5CIU4 Uncharacterized protein n=1 Ta...</td>\n",
       "      <td>UniRef90_I5CIU4</td>\n",
       "    </tr>\n",
       "    <tr>\n",
       "      <th>34966365</th>\n",
       "      <td>UniRef90_A0A147E4S5</td>\n",
       "      <td>MASSPLGRPTRGTTGTNRLRRNDRWIAASEALRRASDPLVVDLGYG...</td>\n",
       "      <td>UniRef90_A0A147E4S5 Methylase n=1 Tax=Microbac...</td>\n",
       "      <td>UniRef90_A0A147E4S5</td>\n",
       "    </tr>\n",
       "    <tr>\n",
       "      <th>56034456</th>\n",
       "      <td>UniRef90_UPI0002C309CE</td>\n",
       "      <td>MSEISEEMRRTEVESREWYMAAYAPEGVPTSDHLKLRTVKISLALD...</td>\n",
       "      <td>UniRef90_UPI0002C309CE 2-alkenal reductase (NA...</td>\n",
       "      <td>UniRef90_UPI0002C309CE</td>\n",
       "    </tr>\n",
       "    <tr>\n",
       "      <th>...</th>\n",
       "      <td>...</td>\n",
       "      <td>...</td>\n",
       "      <td>...</td>\n",
       "      <td>...</td>\n",
       "    </tr>\n",
       "    <tr>\n",
       "      <th>55101813</th>\n",
       "      <td>UniRef90_A0A1A8GS03</td>\n",
       "      <td>QSPFCDTLTGQCVCVTGAYGRQCDRCLPGYWGFPSCRPCSCNGHAD...</td>\n",
       "      <td>UniRef90_A0A1A8GS03 Laminin, beta 1 (Fragment)...</td>\n",
       "      <td>UniRef90_A0A1A8GS03</td>\n",
       "    </tr>\n",
       "    <tr>\n",
       "      <th>2665083</th>\n",
       "      <td>UniRef90_A0A2H5RUC0</td>\n",
       "      <td>MITTKIFKAYFPIFFLFVFLFYHVDAVCEKITNNVRRTDINWNFDD...</td>\n",
       "      <td>UniRef90_A0A2H5RUC0 Uncharacterized protein n=...</td>\n",
       "      <td>UniRef90_A0A2H5RUC0</td>\n",
       "    </tr>\n",
       "    <tr>\n",
       "      <th>10540577</th>\n",
       "      <td>UniRef90_A0A226D9Z3</td>\n",
       "      <td>MPRYTHGGYTYPDPVPQSVLGRRIPSPSLLAPPAPSGTWVQEWNSR...</td>\n",
       "      <td>UniRef90_A0A226D9Z3 Uncharacterized protein n=...</td>\n",
       "      <td>UniRef90_A0A226D9Z3</td>\n",
       "    </tr>\n",
       "    <tr>\n",
       "      <th>16557046</th>\n",
       "      <td>UniRef90_A0A1H5RXB5</td>\n",
       "      <td>MKPSRSELTCNSDYRERSGWLQRLCRQAVLRQLQAIKRGTLRLQTD...</td>\n",
       "      <td>UniRef90_A0A1H5RXB5 Cyclopropane-fatty-acyl-ph...</td>\n",
       "      <td>UniRef90_A0A1H5RXB5</td>\n",
       "    </tr>\n",
       "    <tr>\n",
       "      <th>51102403</th>\n",
       "      <td>UniRef90_A0A2A4WM11</td>\n",
       "      <td>MNSFTRIALLIILIPTMSFGGDKSKHEEHELNKNPSGVEVLSHELR...</td>\n",
       "      <td>UniRef90_A0A2A4WM11 Uncharacterized protein n=...</td>\n",
       "      <td>UniRef90_A0A2A4WM11</td>\n",
       "    </tr>\n",
       "  </tbody>\n",
       "</table>\n",
       "<p>100000 rows × 4 columns</p>\n",
       "</div>"
      ],
      "text/plain": [
       "                              id  \\\n",
       "25882377     UniRef90_A0A1Q4Y2J6   \n",
       "38399280         UniRef90_H1ZE35   \n",
       "17998586         UniRef90_I5CIU4   \n",
       "34966365     UniRef90_A0A147E4S5   \n",
       "56034456  UniRef90_UPI0002C309CE   \n",
       "...                          ...   \n",
       "55101813     UniRef90_A0A1A8GS03   \n",
       "2665083      UniRef90_A0A2H5RUC0   \n",
       "10540577     UniRef90_A0A226D9Z3   \n",
       "16557046     UniRef90_A0A1H5RXB5   \n",
       "51102403     UniRef90_A0A2A4WM11   \n",
       "\n",
       "                                                   sequence  \\\n",
       "25882377  MPQAPAWSVLDEYLWHTCEILADLRADRLDQRPLVATRARLEPGER...   \n",
       "38399280  MNQTPKLTYVLHSGSFLSTLLIFFFIFLSRRGANGIYTQPLLGALY...   \n",
       "17998586  MKDFRLRFASFGDILDDDDGAAIRHWIVCDLELSTVAQFKVERVAL...   \n",
       "34966365  MASSPLGRPTRGTTGTNRLRRNDRWIAASEALRRASDPLVVDLGYG...   \n",
       "56034456  MSEISEEMRRTEVESREWYMAAYAPEGVPTSDHLKLRTVKISLALD...   \n",
       "...                                                     ...   \n",
       "55101813  QSPFCDTLTGQCVCVTGAYGRQCDRCLPGYWGFPSCRPCSCNGHAD...   \n",
       "2665083   MITTKIFKAYFPIFFLFVFLFYHVDAVCEKITNNVRRTDINWNFDD...   \n",
       "10540577  MPRYTHGGYTYPDPVPQSVLGRRIPSPSLLAPPAPSGTWVQEWNSR...   \n",
       "16557046  MKPSRSELTCNSDYRERSGWLQRLCRQAVLRQLQAIKRGTLRLQTD...   \n",
       "51102403  MNSFTRIALLIILIPTMSFGGDKSKHEEHELNKNPSGVEVLSHELR...   \n",
       "\n",
       "                                                description  \\\n",
       "25882377  UniRef90_A0A1Q4Y2J6 Uncharacterized protein n=...   \n",
       "38399280  UniRef90_H1ZE35 Uncharacterized protein n=2 Ta...   \n",
       "17998586  UniRef90_I5CIU4 Uncharacterized protein n=1 Ta...   \n",
       "34966365  UniRef90_A0A147E4S5 Methylase n=1 Tax=Microbac...   \n",
       "56034456  UniRef90_UPI0002C309CE 2-alkenal reductase (NA...   \n",
       "...                                                     ...   \n",
       "55101813  UniRef90_A0A1A8GS03 Laminin, beta 1 (Fragment)...   \n",
       "2665083   UniRef90_A0A2H5RUC0 Uncharacterized protein n=...   \n",
       "10540577  UniRef90_A0A226D9Z3 Uncharacterized protein n=...   \n",
       "16557046  UniRef90_A0A1H5RXB5 Cyclopropane-fatty-acyl-ph...   \n",
       "51102403  UniRef90_A0A2A4WM11 Uncharacterized protein n=...   \n",
       "\n",
       "                           label  \n",
       "25882377     UniRef90_A0A1Q4Y2J6  \n",
       "38399280         UniRef90_H1ZE35  \n",
       "17998586         UniRef90_I5CIU4  \n",
       "34966365     UniRef90_A0A147E4S5  \n",
       "56034456  UniRef90_UPI0002C309CE  \n",
       "...                          ...  \n",
       "55101813     UniRef90_A0A1A8GS03  \n",
       "2665083      UniRef90_A0A2H5RUC0  \n",
       "10540577     UniRef90_A0A226D9Z3  \n",
       "16557046     UniRef90_A0A1H5RXB5  \n",
       "51102403     UniRef90_A0A2A4WM11  \n",
       "\n",
       "[100000 rows x 4 columns]"
      ]
     },
     "execution_count": 6,
     "metadata": {},
     "output_type": "execute_result"
    }
   ],
   "source": [
    "sp"
   ]
  },
  {
   "cell_type": "code",
   "execution_count": 4,
   "id": "c1296a6e",
   "metadata": {},
   "outputs": [],
   "source": [
    "ap = pd.concat([df,df])"
   ]
  },
  {
   "cell_type": "code",
   "execution_count": 5,
   "id": "5eae4484",
   "metadata": {},
   "outputs": [
    {
     "data": {
      "text/plain": [
       "<bound method NDFrame.head of                                      id  \\\n",
       "0                               1a04A01   \n",
       "1         UniRef90_W1DJ80/492-611/1-120   \n",
       "2       UniRef90_A0A1I6HPK7/7-122/2-116   \n",
       "3           UniRef90_M7NXJ7/5-122/3-118   \n",
       "4      UniRef90_A0A2N3F4V0/12-129/2-115   \n",
       "..                                  ...   \n",
       "244     UniRef90_A0A518EQ09/5-116/2-107   \n",
       "245        UniRef90_E6X108/695-810/3-65   \n",
       "246    UniRef90_A0A661AVW3/5-118/34-109   \n",
       "247  UniRef90_UPI000D6E6D80/2-118/1-113   \n",
       "248    UniRef90_A0A5E7GXI2/529-611/2-67   \n",
       "\n",
       "                                              sequence  \\\n",
       "0    EPATILLIDDHPMLRTGVKQLISMAPDITVVGEASNGEQGIELAES...   \n",
       "1    ---TILLIDDHPMLRTGVKQLISMAPDIQVIGEASNGAQGIELAES...   \n",
       "2    ----ILLIDDHPLLRQGIKQLIDMEDDMQVAGEASNGPDGIQRAVE...   \n",
       "3    ----VLLIDDHPLFRKGVGQIISDDPSFEIVGEAASGMEGLELAVQ...   \n",
       "4    ----VLVADDQALVRSGFHMLVESADDLTVVGEAANGVEALELSRS...   \n",
       "..                                                 ...   \n",
       "244  ------LVDDDAKLARDLSVgLAVYGFSVVTVGTLEEART--RLAG...   \n",
       "245  -----LVAEDNPINQKLIIATLSrFGID---VAIANNGEEAFERRK...   \n",
       "246  --------------------------------------DAVEKFSQ...   \n",
       "247  ----ILIIDDDRAVQSAFRLLLDIEGFETR--TAHHPNEGMEIIQQ...   \n",
       "248  -----MVVDDDSLVLTSTGLLLEDLGH-RVI-SAVSGAQALELFER...   \n",
       "\n",
       "                                           description  \\\n",
       "0                                              1a04A01   \n",
       "1    UniRef90_W1DJ80/492-611/1-120 [subseq from] Un...   \n",
       "2    UniRef90_A0A1I6HPK7/7-122/2-116 [subseq from] ...   \n",
       "3    UniRef90_M7NXJ7/5-122/3-118 [subseq from] UniR...   \n",
       "4    UniRef90_A0A2N3F4V0/12-129/2-115 [subseq from]...   \n",
       "..                                                 ...   \n",
       "244  UniRef90_A0A518EQ09/5-116/2-107 [subseq from] ...   \n",
       "245  UniRef90_E6X108/695-810/3-65 [subseq from] Uni...   \n",
       "246  UniRef90_A0A661AVW3/5-118/34-109 [subseq from]...   \n",
       "247  UniRef90_UPI000D6E6D80/2-118/1-113 [subseq fro...   \n",
       "248  UniRef90_A0A5E7GXI2/529-611/2-67 [subseq from]...   \n",
       "\n",
       "                                  label  \n",
       "0                               1a04A01  \n",
       "1         UniRef90_W1DJ80/492-611/1-120  \n",
       "2       UniRef90_A0A1I6HPK7/7-122/2-116  \n",
       "3           UniRef90_M7NXJ7/5-122/3-118  \n",
       "4      UniRef90_A0A2N3F4V0/12-129/2-115  \n",
       "..                                  ...  \n",
       "244     UniRef90_A0A518EQ09/5-116/2-107  \n",
       "245        UniRef90_E6X108/695-810/3-65  \n",
       "246    UniRef90_A0A661AVW3/5-118/34-109  \n",
       "247  UniRef90_UPI000D6E6D80/2-118/1-113  \n",
       "248    UniRef90_A0A5E7GXI2/529-611/2-67  \n",
       "\n",
       "[498 rows x 4 columns]>"
      ]
     },
     "execution_count": 5,
     "metadata": {},
     "output_type": "execute_result"
    }
   ],
   "source": [
    "ap.head"
   ]
  },
  {
   "cell_type": "code",
   "execution_count": null,
   "id": "2e9d7354",
   "metadata": {},
   "outputs": [],
   "source": []
  },
  {
   "cell_type": "code",
   "execution_count": null,
   "id": "d5598e72",
   "metadata": {},
   "outputs": [],
   "source": []
  },
  {
   "cell_type": "code",
   "execution_count": null,
   "id": "9e3c23bf",
   "metadata": {},
   "outputs": [],
   "source": []
  },
  {
   "cell_type": "code",
   "execution_count": null,
   "id": "9ec1d806",
   "metadata": {},
   "outputs": [],
   "source": []
  },
  {
   "cell_type": "code",
   "execution_count": null,
   "id": "cdb88ae1",
   "metadata": {},
   "outputs": [],
   "source": []
  },
  {
   "cell_type": "code",
   "execution_count": 24,
   "id": "c9e75c26",
   "metadata": {},
   "outputs": [
    {
     "name": "stdout",
     "output_type": "stream",
     "text": [
      "CPU times: user 4.21 ms, sys: 5.6 ms, total: 9.82 ms\n",
      "Wall time: 79.1 ms\n"
     ]
    }
   ],
   "source": [
    "%%time\n",
    "import re\n",
    "import sys \n",
    "sys.path.append(\"/share/hongliang\") \n",
    "import pandas as pd\n",
    "import phylopandas.phylopandas as ph\n",
    "\n",
    "df = ph.read_fasta('./hmmalign256-v1/1a04A01.a3m', use_uids=False)\n",
    "sp = df.sample(n=10, replace=True)"
   ]
  },
  {
   "cell_type": "code",
   "execution_count": 3,
   "id": "7ff5bb45",
   "metadata": {},
   "outputs": [
    {
     "name": "stdout",
     "output_type": "stream",
     "text": [
      "CPU times: user 2.95 ms, sys: 0 ns, total: 2.95 ms\n",
      "Wall time: 2.96 ms\n"
     ]
    }
   ],
   "source": [
    "%%time\n",
    "sp.loc[:,'sequence'] = sp['sequence'].map(lambda x: re.sub('[(\\-)]', '', x))"
   ]
  },
  {
   "cell_type": "code",
   "execution_count": 6,
   "id": "e93679af",
   "metadata": {},
   "outputs": [
    {
     "name": "stdout",
     "output_type": "stream",
     "text": [
      "CPU times: user 1min 25s, sys: 2.17 s, total: 1min 27s\n",
      "Wall time: 1min 38s\n"
     ]
    }
   ],
   "source": [
    "%%time\n",
    "sp.phylo.to_fasta('try_new1.txt', id_col='id')"
   ]
  },
  {
   "cell_type": "code",
   "execution_count": 56,
   "id": "e78bb79d",
   "metadata": {},
   "outputs": [
    {
     "name": "stdout",
     "output_type": "stream",
     "text": [
      "CPU times: user 3.52 ms, sys: 1.2 ms, total: 4.72 ms\n",
      "Wall time: 17.1 ms\n"
     ]
    }
   ],
   "source": [
    "%%time\n",
    "import csv\n",
    "sp1 = sp.loc[:,['id', 'sequence']]\n",
    "with open('./try_new2.txt', 'w+') as f:\n",
    "    f.write('>')\n",
    "sp1.iloc[0,0] = sp1.iloc[0,0]\n",
    "sp1.to_csv('try_new2.txt', sep='\\n', header=False, index=False, line_terminator='\\n>', mode='a+')"
   ]
  },
  {
   "cell_type": "code",
   "execution_count": 27,
   "id": "66213d6d",
   "metadata": {},
   "outputs": [
    {
     "name": "stdout",
     "output_type": "stream",
     "text": [
      "CPU times: user 1.59 ms, sys: 28.1 ms, total: 29.7 ms\n",
      "Wall time: 208 ms\n"
     ]
    }
   ],
   "source": [
    "%%time\n",
    "!truncate -s-1 try_new2.txt"
   ]
  },
  {
   "cell_type": "code",
   "execution_count": 19,
   "id": "820f1faf",
   "metadata": {},
   "outputs": [],
   "source": [
    "sp.iloc[0,0] = '>'+sp.iloc[0,0]"
   ]
  },
  {
   "cell_type": "code",
   "execution_count": 21,
   "id": "8c8542cd",
   "metadata": {},
   "outputs": [
    {
     "data": {
      "text/plain": [
       "'>UniRef90_A0A1C6DQ18/5-116/25-106'"
      ]
     },
     "execution_count": 21,
     "metadata": {},
     "output_type": "execute_result"
    }
   ],
   "source": [
    "(sp.iloc[0,0])"
   ]
  },
  {
   "cell_type": "code",
   "execution_count": 20,
   "id": "97de046a",
   "metadata": {},
   "outputs": [
    {
     "data": {
      "text/plain": [
       "str"
      ]
     },
     "execution_count": 20,
     "metadata": {},
     "output_type": "execute_result"
    }
   ],
   "source": [
    "type(sp.iloc[1,0])"
   ]
  },
  {
   "cell_type": "code",
   "execution_count": 28,
   "id": "303402e7",
   "metadata": {},
   "outputs": [
    {
     "data": {
      "text/plain": [
       "0"
      ]
     },
     "execution_count": 28,
     "metadata": {},
     "output_type": "execute_result"
    }
   ],
   "source": [
    "import os\n",
    "os.system('truncate -s-1 try_new2.txt')"
   ]
  },
  {
   "cell_type": "code",
   "execution_count": null,
   "id": "e9d3005a",
   "metadata": {},
   "outputs": [],
   "source": []
  },
  {
   "cell_type": "code",
   "execution_count": null,
   "id": "6952c983",
   "metadata": {},
   "outputs": [],
   "source": []
  },
  {
   "cell_type": "code",
   "execution_count": null,
   "id": "7c327f74",
   "metadata": {},
   "outputs": [],
   "source": []
  },
  {
   "cell_type": "code",
   "execution_count": 25,
   "id": "e0c93508",
   "metadata": {},
   "outputs": [
    {
     "name": "stdout",
     "output_type": "stream",
     "text": [
      "total 365980\r\n",
      "-rwxr-xr-x  1 hongliang default          134 Aug 24 09:42 1a04A01.seq\r\n",
      "-rwxr-xr-x  1 hongliang default      2209149 Aug 27 11:22 1a04A02.a3m\r\n",
      "-rwxr-xr-x  1 hongliang default           90 Aug 27 11:13 1a04A02.seq\r\n",
      "-rwxr-xr-x  1 hongliang default        15939 Aug 23 10:42 1a0iA03.a3m\r\n",
      "-rwxr-xr-x  1 hongliang default          158 Aug 27 10:48 1a0iA03.seq\r\n",
      "-rwxr-xr-x  1 hongliang default           80 Aug 24 13:04 1a9xA03.seq\r\n",
      "-rw-r--r--  1 hongliang default         6637 Aug 23 09:36 ali.a3m\r\n",
      "-rw-r--r--  1 hongliang default        11612 Aug 25 11:10 align100000-v2.log\r\n",
      "-rw-r--r--  1 hongliang default        11310 Aug 23 22:52 align20000-v1.log\r\n",
      "-rw-r--r--  1 hongliang default        32565 Aug 25 23:13 align20000-v2.log\r\n",
      "-rw-r--r--  1 hongliang default        11323 Aug 23 20:30 align2048.log\r\n",
      "-rw-r--r--  1 hongliang default        11408 Aug 23 23:18 align2048-v2.log\r\n",
      "-rw-r--r--  1 hongliang default       111903 Aug 23 12:55 align256.log\r\n",
      "-rw-r--r--  1 hongliang default       110382 Aug 23 11:28 align.log\r\n",
      "drwxr-xr-x  2 hongliang default      1128466 Aug 20 20:13 align_pred\r\n",
      "drwxr-xr-x  2 hongliang default          931 Aug 25 11:16 ana\r\n",
      "-rw-r--r--  1 hongliang default       183146 Aug 17 15:34 bigsample.txt\r\n",
      "drwxr-xr-x  2 hongliang default   5667583301 Aug 28 08:57 c1000_msa\r\n",
      "drwxr-xr-x  2 hongliang default        72575 Aug 25 14:58 CASP11_SEQ\r\n",
      "drwxr-xr-x  2 hongliang default  10224306300 Aug 22 04:16 continue_train\r\n",
      "drwxr-xr-x  2 hongliang default    170402225 Aug 27 21:32 continue_train_clean\r\n",
      "-rw-r--r--  1 hongliang default          408 Aug 13 19:46 count.py\r\n",
      "-rw-r--r--  1 hongliang default         7480 Aug 21 19:29 data.py\r\n",
      "-rw-r--r--  1 hongliang default         4511 Aug 25 08:49 dense_retiever.py\r\n",
      "-rw-r--r--  1 hongliang default         1246 Aug 28 10:58 dl.fasta\r\n",
      "-rw-r--r--  1 hongliang default          193 Aug 17 15:38 do_sample.py\r\n",
      "drwxr-xr-x  2 hongliang default            0 Aug 28 12:09 download_it\r\n",
      "drwxr-xr-x  2 hongliang default   3213394446 Aug 16 21:13 ebd\r\n",
      "-rw-r--r--  1 hongliang default        68013 Aug 16 21:12 ebd.log\r\n",
      "-rw-r--r--  1 hongliang default          294 Aug 18 22:31 errr.log\r\n",
      "drwxr-xr-x  2 hongliang default            0 Aug 28 12:09 expand_seq\r\n",
      "drwxr-xr-x  2 hongliang default   3408102100 Aug 13 22:16 full\r\n",
      "drwxr-xr-x  2 hongliang default            0 Aug 13 23:28 full33\r\n",
      "-rw-r--r--  1 hongliang default         2757 Aug 23 17:31 generate_vec.py\r\n",
      "-rw-r--r--  1 hongliang default         3844 Aug 27 20:59 gen_t1000.py\r\n",
      "-rw-r--r--  1 hongliang default          480 Aug 27 16:43 gen_top1000_msa.py\r\n",
      "-rw-r--r--  1 hongliang default         3567 Aug 27 18:08 gen_u90.py\r\n",
      "-rw-r--r--  1 hongliang default          706 Aug 19 14:35 get_size.py\r\n",
      "drwxr-xr-x  2 hongliang default    148771208 Aug 25 10:02 hmmalign100000-v2\r\n",
      "drwxr-xr-x  2 hongliang default       318247 Aug 23 22:52 hmmalign20000-v1\r\n",
      "drwxr-xr-x  2 hongliang default    228250412 Aug 27 15:04 hmmalign20000-v2\r\n",
      "drwxr-xr-x  2 hongliang default      9670677 Aug 23 20:28 hmmalign2048-v1\r\n",
      "drwxr-xr-x  2 hongliang default     21370325 Aug 23 23:17 hmmalign2048-v2\r\n",
      "drwxr-xr-x  2 hongliang default     17107384 Aug 27 15:04 hmmalign256-v1\r\n",
      "drwxr-xr-x  2 hongliang default      2793821 Aug 23 11:32 hmmalign32-v1\r\n",
      "-rw-r--r--  1 hongliang default          650 Aug 25 22:49 hmm_aligner.py\r\n",
      "-rw-r--r--  1 hongliang default        24768 Aug 13 19:41 logg.txt\r\n",
      "-rw-r--r--  1 hongliang default         3949 Aug 21 19:28 main.py\r\n",
      "-rw-r--r--  1 hongliang default         2071 Aug 13 23:38 model.py\r\n",
      "-rw-r--r--  1 hongliang default         1064 Aug 20 12:31 myalign.py\r\n",
      "-rw-r--r--  1 hongliang default          572 Aug 23 16:57 myapp.py\r\n",
      "-rw-r--r--  1 hongliang default          668 Aug 19 22:06 myutils.py\r\n",
      "-rw-r--r--  1 hongliang default         6577 Aug 23 11:07 newali.a3m\r\n",
      "drwxrwxrwx  2 hongliang default      4134258 Aug 21 21:28 pred-202108192300\r\n",
      "drwxr-xr-x  2 hongliang default      4397658 Aug 23 10:22 pred-202108230930-32\r\n",
      "drwxr-xr-x  2 hongliang default     35115442 Aug 23 12:50 pred-202108231140-256\r\n",
      "drwxr-xr-x  2 hongliang default     25402915 Aug 23 20:26 pred-202108232011-2048\r\n",
      "drwxr-xr-x  2 hongliang default     28520379 Aug 23 22:10 pred-202108232200-2048\r\n",
      "drwxr-xr-x  2 hongliang default    185196766 Aug 23 22:48 pred-202108232221-20000\r\n",
      "drwxr-xr-x  2 hongliang default    268220034 Aug 24 14:27 pred-202108241047-20000\r\n",
      "drwxr-xr-x  2 hongliang default   1293936634 Aug 25 09:35 pred-202108250848-100000\r\n",
      "drwxr-xr-x  2 hongliang default        14898 Aug 21 19:30 __pycache__\r\n",
      "-rw-r--r--  1 hongliang default         5734 Aug 24 16:10 requirements.txt\r\n",
      "-rw-r--r--  1 hongliang default         3631 Aug 21 21:23 res.fasta\r\n",
      "-rw-r--r--  1 hongliang default         5602 Aug 26 09:17 retrieve_app.py\r\n",
      "-rw-r--r--  1 hongliang default         5409 Aug 28 10:50 retrieve_app-v2.py\r\n",
      "-rw-r--r--  1 hongliang default         5625 Aug 28 08:15 retrieve_app-v3.py\r\n",
      "-rw-r--r--  1 hongliang default         5551 Aug 23 10:22 score2.log\r\n",
      "-rw-r--r--  1 hongliang default        19181 Aug 23 12:50 score3.log\r\n",
      "-rw-r--r--  1 hongliang default         2061 Aug 23 20:26 score4.log\r\n",
      "-rw-r--r--  1 hongliang default         2125 Aug 23 23:12 score5.log\r\n",
      "-rw-r--r--  1 hongliang default         2230 Aug 24 13:14 score6.log\r\n",
      "-rw-r--r--  1 hongliang default         2251 Aug 25 09:35 score7.log\r\n",
      "-rw-r--r--  1 hongliang default         5551 Aug 20 01:32 score.log\r\n",
      "-rw-r--r--  1 hongliang default          594 Aug 15 16:00 sel.py\r\n",
      "-rw-r--r--  1 hongliang default         1571 Aug 27 13:01 speed.fasta\r\n",
      "drwxr-xr-x  2 hongliang default       869967 Aug 19 15:02 split\r\n",
      "drwxr-xr-x  2 hongliang default  38134984325 Aug 19 12:36 split_ebd\r\n",
      "drwxr-xr-x  2 hongliang default  38134984325 Aug 23 21:53 split_ebd_continue\r\n",
      "drwxr-xr-x  2 hongliang default   8520255250 Aug 19 09:10 split_train\r\n",
      "drwxr-xr-x  2 hongliang default  10224306300 Aug 20 20:13 split_train_new\r\n",
      "drwxr-xr-x  2 hongliang default   3578507205 Aug 13 17:08 store\r\n",
      "drwxr-xr-x  2 hongliang default  92346076996 Aug 28 03:04 t1000_ebd\r\n",
      "drwxr-xr-x  2 hongliang default         8795 Aug 12 15:32 test\r\n",
      "drwxr-xr-x  7 hongliang default     67260169 Aug 27 15:07 test-env\r\n",
      "drwxr-xr-x  2 hongliang default        31896 Aug 23 08:46 test_index\r\n",
      "drwxr-xr-x  2 hongliang default    197431939 Aug 15 16:26 testset\r\n",
      "drwxr-xr-x  2 hongliang default            0 Aug 28 12:09 tmp_retrieve\r\n",
      "-rw-r--r--  1 hongliang default         5154 Aug 21 18:38 train.py\r\n",
      "-rw-r--r--  1 hongliang default    138254013 Aug 28 22:17 try_new1.txt\r\n",
      "-rw-r--r--  1 hongliang default    137246024 Aug 28  2021 try_new2.txt\r\n",
      "-rw-r--r--  1 hongliang default     78669409 Aug 28 21:36 try_new.txt\r\n",
      "drwxr-xr-x  2 hongliang default            0 Aug 28 12:09 upload_it\r\n",
      "drwxr-xr-x  2 hongliang default 219286986848 Aug 27 06:49 ur90_ebd\r\n",
      "-rw-r--r--  1 hongliang default     17634907 Aug 28 22:31 vis.ipynb\r\n",
      "drwxr-xr-x 24 hongliang default    736889104 Aug 21 19:30 wandb\r\n"
     ]
    }
   ],
   "source": [
    "!ls -l"
   ]
  },
  {
   "cell_type": "code",
   "execution_count": null,
   "id": "758ee7c5",
   "metadata": {},
   "outputs": [],
   "source": []
  }
 ],
 "metadata": {
  "kernelspec": {
   "display_name": "Python [conda env:show]",
   "language": "python",
   "name": "conda-env-show-py"
  },
  "language_info": {
   "codemirror_mode": {
    "name": "ipython",
    "version": 3
   },
   "file_extension": ".py",
   "mimetype": "text/x-python",
   "name": "python",
   "nbconvert_exporter": "python",
   "pygments_lexer": "ipython3",
   "version": "3.8.11"
  }
 },
 "nbformat": 4,
 "nbformat_minor": 5
}
